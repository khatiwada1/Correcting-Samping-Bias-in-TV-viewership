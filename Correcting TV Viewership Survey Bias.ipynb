{
 "cells": [
  {
   "cell_type": "markdown",
   "metadata": {},
   "source": [
    "# Sampling bias correction for TV viewership data \n"
   ]
  },
  {
   "cell_type": "markdown",
   "metadata": {},
   "source": [
    "# Introduction\n",
    "\n",
    "Consider a universe of television-watching individuals, denoted by the set U. We have access to data\n",
    "on the individual viewership behavior of a subset of U, denoted by Us. The Us is known to be a\n",
    "biased sampling of U; specifically, certain demographic categories are over or under_represented in\n",
    "the sampled dataset with respect to the national population. We would like to model and forecast the\n",
    "viewership activity of U using our information on the members of Us. Consequently, the bias in Us\n",
    "must be measured and compensated for."
   ]
  },
  {
   "cell_type": "markdown",
   "metadata": {},
   "source": [
    "**The Challenge**\n",
    "\n",
    "**In this problem we have two data sets that requires sampling bias correction in a realistic set of TV viewer data**\n",
    "\n",
    "**`demographic attributes.csv' : This table is derived from a dataset on national TV viewers;\n",
    "it associates 400,000 person ids with demographic categories to which the person belongs.**\n",
    "\n",
    "**`demo ground truth.csv' : This table contains census-derived values for the number of individuals belonging to each of the demographic categories in `demographic attributes.csv'. The categories are of three types: age, ethnicity, and education level.**"
   ]
  },
  {
   "cell_type": "markdown",
   "metadata": {},
   "source": [
    "**I would like to devise an approach to balance the sampled dataset of people in demographic attributes.csv on each demographic category; i.e., the goal here is to compute a set of person{level weights (one single weight per person) that unbiases the dataset.**"
   ]
  },
  {
   "cell_type": "code",
   "execution_count": 1,
   "metadata": {},
   "outputs": [],
   "source": [
    "#First lets import some basic and useful python library and look into the data\n",
    "import pandas as pd\n",
    "import scipy\n",
    "import IPython\n",
    "import numpy as np\n",
    "from matplotlib import style\n",
    "%matplotlib inline\n",
    "import matplotlib.pyplot as plt\n",
    "import seaborn as sns"
   ]
  },
  {
   "cell_type": "code",
   "execution_count": 2,
   "metadata": {},
   "outputs": [],
   "source": [
    "#For visualizing bigger dataFrames\n",
    "pd.set_option('display.max_columns', None)\n",
    "pd.set_option('display.max_rows', None)"
   ]
  },
  {
   "cell_type": "markdown",
   "metadata": {},
   "source": [
    "**Lets read in the data and take a quick look.**"
   ]
  },
  {
   "cell_type": "code",
   "execution_count": 3,
   "metadata": {},
   "outputs": [
    {
     "name": "stdout",
     "output_type": "stream",
     "text": [
      "(400000, 4)\n"
     ]
    },
    {
     "data": {
      "text/html": [
       "<div>\n",
       "<style scoped>\n",
       "    .dataframe tbody tr th:only-of-type {\n",
       "        vertical-align: middle;\n",
       "    }\n",
       "\n",
       "    .dataframe tbody tr th {\n",
       "        vertical-align: top;\n",
       "    }\n",
       "\n",
       "    .dataframe thead th {\n",
       "        text-align: right;\n",
       "    }\n",
       "</style>\n",
       "<table border=\"1\" class=\"dataframe\">\n",
       "  <thead>\n",
       "    <tr style=\"text-align: right;\">\n",
       "      <th></th>\n",
       "      <th>person id</th>\n",
       "      <th>age</th>\n",
       "      <th>education</th>\n",
       "      <th>ethnicity</th>\n",
       "    </tr>\n",
       "  </thead>\n",
       "  <tbody>\n",
       "    <tr>\n",
       "      <th>0</th>\n",
       "      <td>0</td>\n",
       "      <td>75_84</td>\n",
       "      <td>Some College</td>\n",
       "      <td>white</td>\n",
       "    </tr>\n",
       "    <tr>\n",
       "      <th>1</th>\n",
       "      <td>1</td>\n",
       "      <td>85_120</td>\n",
       "      <td>HS Diploma</td>\n",
       "      <td>white</td>\n",
       "    </tr>\n",
       "    <tr>\n",
       "      <th>2</th>\n",
       "      <td>2</td>\n",
       "      <td>25_34</td>\n",
       "      <td>Some College</td>\n",
       "      <td>white</td>\n",
       "    </tr>\n",
       "    <tr>\n",
       "      <th>3</th>\n",
       "      <td>3</td>\n",
       "      <td>55_64</td>\n",
       "      <td>HS Diploma</td>\n",
       "      <td>black</td>\n",
       "    </tr>\n",
       "    <tr>\n",
       "      <th>4</th>\n",
       "      <td>4</td>\n",
       "      <td>45_54</td>\n",
       "      <td>Bachelor Degree</td>\n",
       "      <td>white</td>\n",
       "    </tr>\n",
       "  </tbody>\n",
       "</table>\n",
       "</div>"
      ],
      "text/plain": [
       "   person id     age        education ethnicity\n",
       "0          0   75_84     Some College     white\n",
       "1          1  85_120       HS Diploma     white\n",
       "2          2   25_34     Some College     white\n",
       "3          3   55_64       HS Diploma     black\n",
       "4          4   45_54  Bachelor Degree     white"
      ]
     },
     "execution_count": 3,
     "metadata": {},
     "output_type": "execute_result"
    }
   ],
   "source": [
    "# Now lets import the given datasets, first demographic attributes\n",
    "df_attr=pd.read_csv('demographic_attributes.csv')\n",
    "print(df_attr.shape)\n",
    "df_attr.head()"
   ]
  },
  {
   "cell_type": "code",
   "execution_count": 4,
   "metadata": {
    "scrolled": true
   },
   "outputs": [
    {
     "data": {
      "text/plain": [
       "person id     int64\n",
       "age          object\n",
       "education    object\n",
       "ethnicity    object\n",
       "dtype: object"
      ]
     },
     "execution_count": 4,
     "metadata": {},
     "output_type": "execute_result"
    }
   ],
   "source": [
    "df_attr.dtypes"
   ]
  },
  {
   "cell_type": "code",
   "execution_count": 5,
   "metadata": {
    "scrolled": true
   },
   "outputs": [
    {
     "data": {
      "text/html": [
       "<div>\n",
       "<style scoped>\n",
       "    .dataframe tbody tr th:only-of-type {\n",
       "        vertical-align: middle;\n",
       "    }\n",
       "\n",
       "    .dataframe tbody tr th {\n",
       "        vertical-align: top;\n",
       "    }\n",
       "\n",
       "    .dataframe thead th {\n",
       "        text-align: right;\n",
       "    }\n",
       "</style>\n",
       "<table border=\"1\" class=\"dataframe\">\n",
       "  <thead>\n",
       "    <tr style=\"text-align: right;\">\n",
       "      <th></th>\n",
       "      <th>person id</th>\n",
       "      <th>age</th>\n",
       "      <th>education</th>\n",
       "      <th>ethnicity</th>\n",
       "    </tr>\n",
       "  </thead>\n",
       "  <tbody>\n",
       "    <tr>\n",
       "      <th>count</th>\n",
       "      <td>400000.000000</td>\n",
       "      <td>400000</td>\n",
       "      <td>377810</td>\n",
       "      <td>400000</td>\n",
       "    </tr>\n",
       "    <tr>\n",
       "      <th>unique</th>\n",
       "      <td>NaN</td>\n",
       "      <td>8</td>\n",
       "      <td>5</td>\n",
       "      <td>5</td>\n",
       "    </tr>\n",
       "    <tr>\n",
       "      <th>top</th>\n",
       "      <td>NaN</td>\n",
       "      <td>55_64</td>\n",
       "      <td>HS Diploma</td>\n",
       "      <td>white</td>\n",
       "    </tr>\n",
       "    <tr>\n",
       "      <th>freq</th>\n",
       "      <td>NaN</td>\n",
       "      <td>104788</td>\n",
       "      <td>111113</td>\n",
       "      <td>307668</td>\n",
       "    </tr>\n",
       "    <tr>\n",
       "      <th>mean</th>\n",
       "      <td>199999.500000</td>\n",
       "      <td>NaN</td>\n",
       "      <td>NaN</td>\n",
       "      <td>NaN</td>\n",
       "    </tr>\n",
       "    <tr>\n",
       "      <th>std</th>\n",
       "      <td>115470.198175</td>\n",
       "      <td>NaN</td>\n",
       "      <td>NaN</td>\n",
       "      <td>NaN</td>\n",
       "    </tr>\n",
       "    <tr>\n",
       "      <th>min</th>\n",
       "      <td>0.000000</td>\n",
       "      <td>NaN</td>\n",
       "      <td>NaN</td>\n",
       "      <td>NaN</td>\n",
       "    </tr>\n",
       "    <tr>\n",
       "      <th>25%</th>\n",
       "      <td>99999.750000</td>\n",
       "      <td>NaN</td>\n",
       "      <td>NaN</td>\n",
       "      <td>NaN</td>\n",
       "    </tr>\n",
       "    <tr>\n",
       "      <th>50%</th>\n",
       "      <td>199999.500000</td>\n",
       "      <td>NaN</td>\n",
       "      <td>NaN</td>\n",
       "      <td>NaN</td>\n",
       "    </tr>\n",
       "    <tr>\n",
       "      <th>75%</th>\n",
       "      <td>299999.250000</td>\n",
       "      <td>NaN</td>\n",
       "      <td>NaN</td>\n",
       "      <td>NaN</td>\n",
       "    </tr>\n",
       "    <tr>\n",
       "      <th>max</th>\n",
       "      <td>399999.000000</td>\n",
       "      <td>NaN</td>\n",
       "      <td>NaN</td>\n",
       "      <td>NaN</td>\n",
       "    </tr>\n",
       "  </tbody>\n",
       "</table>\n",
       "</div>"
      ],
      "text/plain": [
       "            person id     age   education ethnicity\n",
       "count   400000.000000  400000      377810    400000\n",
       "unique            NaN       8           5         5\n",
       "top               NaN   55_64  HS Diploma     white\n",
       "freq              NaN  104788      111113    307668\n",
       "mean    199999.500000     NaN         NaN       NaN\n",
       "std     115470.198175     NaN         NaN       NaN\n",
       "min          0.000000     NaN         NaN       NaN\n",
       "25%      99999.750000     NaN         NaN       NaN\n",
       "50%     199999.500000     NaN         NaN       NaN\n",
       "75%     299999.250000     NaN         NaN       NaN\n",
       "max     399999.000000     NaN         NaN       NaN"
      ]
     },
     "execution_count": 5,
     "metadata": {},
     "output_type": "execute_result"
    }
   ],
   "source": [
    "df_attr.describe(include='all')"
   ]
  },
  {
   "cell_type": "markdown",
   "metadata": {},
   "source": [
    "**we can see there are missing values for the education categories. I will fill those null values with the mode method.**"
   ]
  },
  {
   "cell_type": "code",
   "execution_count": 6,
   "metadata": {},
   "outputs": [
    {
     "name": "stderr",
     "output_type": "stream",
     "text": [
      "<ipython-input-6-6daca4d9b5d5>:3: SettingWithCopyWarning: \n",
      "A value is trying to be set on a copy of a slice from a DataFrame\n",
      "\n",
      "See the caveats in the documentation: https://pandas.pydata.org/pandas-docs/stable/user_guide/indexing.html#returning-a-view-versus-a-copy\n",
      "  df_attr['education'][pd.isna(df_attr['education'])] = max_freq\n"
     ]
    }
   ],
   "source": [
    "#lets find the null values in these categorical data and impute them with mode(max frequency)methos\n",
    "max_freq = df_attr['education'].value_counts().index[0]\n",
    "df_attr['education'][pd.isna(df_attr['education'])] = max_freq\n"
   ]
  },
  {
   "cell_type": "code",
   "execution_count": 7,
   "metadata": {
    "scrolled": true
   },
   "outputs": [
    {
     "data": {
      "text/html": [
       "<div>\n",
       "<style scoped>\n",
       "    .dataframe tbody tr th:only-of-type {\n",
       "        vertical-align: middle;\n",
       "    }\n",
       "\n",
       "    .dataframe tbody tr th {\n",
       "        vertical-align: top;\n",
       "    }\n",
       "\n",
       "    .dataframe thead th {\n",
       "        text-align: right;\n",
       "    }\n",
       "</style>\n",
       "<table border=\"1\" class=\"dataframe\">\n",
       "  <thead>\n",
       "    <tr style=\"text-align: right;\">\n",
       "      <th></th>\n",
       "      <th>person id</th>\n",
       "      <th>age</th>\n",
       "      <th>education</th>\n",
       "      <th>ethnicity</th>\n",
       "    </tr>\n",
       "  </thead>\n",
       "  <tbody>\n",
       "    <tr>\n",
       "      <th>count</th>\n",
       "      <td>400000.000000</td>\n",
       "      <td>400000</td>\n",
       "      <td>400000</td>\n",
       "      <td>400000</td>\n",
       "    </tr>\n",
       "    <tr>\n",
       "      <th>unique</th>\n",
       "      <td>NaN</td>\n",
       "      <td>8</td>\n",
       "      <td>5</td>\n",
       "      <td>5</td>\n",
       "    </tr>\n",
       "    <tr>\n",
       "      <th>top</th>\n",
       "      <td>NaN</td>\n",
       "      <td>55_64</td>\n",
       "      <td>HS Diploma</td>\n",
       "      <td>white</td>\n",
       "    </tr>\n",
       "    <tr>\n",
       "      <th>freq</th>\n",
       "      <td>NaN</td>\n",
       "      <td>104788</td>\n",
       "      <td>133303</td>\n",
       "      <td>307668</td>\n",
       "    </tr>\n",
       "    <tr>\n",
       "      <th>mean</th>\n",
       "      <td>199999.500000</td>\n",
       "      <td>NaN</td>\n",
       "      <td>NaN</td>\n",
       "      <td>NaN</td>\n",
       "    </tr>\n",
       "    <tr>\n",
       "      <th>std</th>\n",
       "      <td>115470.198175</td>\n",
       "      <td>NaN</td>\n",
       "      <td>NaN</td>\n",
       "      <td>NaN</td>\n",
       "    </tr>\n",
       "    <tr>\n",
       "      <th>min</th>\n",
       "      <td>0.000000</td>\n",
       "      <td>NaN</td>\n",
       "      <td>NaN</td>\n",
       "      <td>NaN</td>\n",
       "    </tr>\n",
       "    <tr>\n",
       "      <th>25%</th>\n",
       "      <td>99999.750000</td>\n",
       "      <td>NaN</td>\n",
       "      <td>NaN</td>\n",
       "      <td>NaN</td>\n",
       "    </tr>\n",
       "    <tr>\n",
       "      <th>50%</th>\n",
       "      <td>199999.500000</td>\n",
       "      <td>NaN</td>\n",
       "      <td>NaN</td>\n",
       "      <td>NaN</td>\n",
       "    </tr>\n",
       "    <tr>\n",
       "      <th>75%</th>\n",
       "      <td>299999.250000</td>\n",
       "      <td>NaN</td>\n",
       "      <td>NaN</td>\n",
       "      <td>NaN</td>\n",
       "    </tr>\n",
       "    <tr>\n",
       "      <th>max</th>\n",
       "      <td>399999.000000</td>\n",
       "      <td>NaN</td>\n",
       "      <td>NaN</td>\n",
       "      <td>NaN</td>\n",
       "    </tr>\n",
       "  </tbody>\n",
       "</table>\n",
       "</div>"
      ],
      "text/plain": [
       "            person id     age   education ethnicity\n",
       "count   400000.000000  400000      400000    400000\n",
       "unique            NaN       8           5         5\n",
       "top               NaN   55_64  HS Diploma     white\n",
       "freq              NaN  104788      133303    307668\n",
       "mean    199999.500000     NaN         NaN       NaN\n",
       "std     115470.198175     NaN         NaN       NaN\n",
       "min          0.000000     NaN         NaN       NaN\n",
       "25%      99999.750000     NaN         NaN       NaN\n",
       "50%     199999.500000     NaN         NaN       NaN\n",
       "75%     299999.250000     NaN         NaN       NaN\n",
       "max     399999.000000     NaN         NaN       NaN"
      ]
     },
     "execution_count": 7,
     "metadata": {},
     "output_type": "execute_result"
    }
   ],
   "source": [
    "df_attr.describe(include='all')"
   ]
  },
  {
   "cell_type": "markdown",
   "metadata": {},
   "source": [
    "**Now I want to look on the second data table the ground Truth.**"
   ]
  },
  {
   "cell_type": "code",
   "execution_count": 8,
   "metadata": {
    "scrolled": false
   },
   "outputs": [
    {
     "name": "stdout",
     "output_type": "stream",
     "text": [
      "(22, 2)\n"
     ]
    },
    {
     "data": {
      "text/html": [
       "<div>\n",
       "<style scoped>\n",
       "    .dataframe tbody tr th:only-of-type {\n",
       "        vertical-align: middle;\n",
       "    }\n",
       "\n",
       "    .dataframe tbody tr th {\n",
       "        vertical-align: top;\n",
       "    }\n",
       "\n",
       "    .dataframe thead th {\n",
       "        text-align: right;\n",
       "    }\n",
       "</style>\n",
       "<table border=\"1\" class=\"dataframe\">\n",
       "  <thead>\n",
       "    <tr style=\"text-align: right;\">\n",
       "      <th></th>\n",
       "      <th>demographic category</th>\n",
       "      <th>number of individuals</th>\n",
       "    </tr>\n",
       "  </thead>\n",
       "  <tbody>\n",
       "    <tr>\n",
       "      <th>0</th>\n",
       "      <td>18_24</td>\n",
       "      <td>11839159</td>\n",
       "    </tr>\n",
       "    <tr>\n",
       "      <th>1</th>\n",
       "      <td>25_34</td>\n",
       "      <td>16399632</td>\n",
       "    </tr>\n",
       "    <tr>\n",
       "      <th>2</th>\n",
       "      <td>35_44</td>\n",
       "      <td>15335704</td>\n",
       "    </tr>\n",
       "    <tr>\n",
       "      <th>3</th>\n",
       "      <td>45_54</td>\n",
       "      <td>16430762</td>\n",
       "    </tr>\n",
       "    <tr>\n",
       "      <th>4</th>\n",
       "      <td>55_64</td>\n",
       "      <td>15148777</td>\n",
       "    </tr>\n",
       "  </tbody>\n",
       "</table>\n",
       "</div>"
      ],
      "text/plain": [
       "  demographic category  number of individuals\n",
       "0                18_24               11839159\n",
       "1                25_34               16399632\n",
       "2                35_44               15335704\n",
       "3                45_54               16430762\n",
       "4                55_64               15148777"
      ]
     },
     "execution_count": 8,
     "metadata": {},
     "output_type": "execute_result"
    }
   ],
   "source": [
    "# Now lets import the demo graound truth data\n",
    "df_gt=pd.read_csv('demo_ground_truth_csv.csv')\n",
    "print(df_gt.shape)\n",
    "df_gt.head()"
   ]
  },
  {
   "cell_type": "code",
   "execution_count": 9,
   "metadata": {},
   "outputs": [
    {
     "name": "stdout",
     "output_type": "stream",
     "text": [
      "person id :  400000 labels\n",
      "age :  8 labels\n",
      "education :  5 labels\n",
      "ethnicity :  5 labels\n"
     ]
    }
   ],
   "source": [
    "# lets find some more information \n",
    "for col in df_attr.columns[0:]:\n",
    "    print(col,': ', len(df_attr[col].unique()),'labels')"
   ]
  },
  {
   "cell_type": "code",
   "execution_count": 10,
   "metadata": {},
   "outputs": [
    {
     "data": {
      "text/html": [
       "<div>\n",
       "<style scoped>\n",
       "    .dataframe tbody tr th:only-of-type {\n",
       "        vertical-align: middle;\n",
       "    }\n",
       "\n",
       "    .dataframe tbody tr th {\n",
       "        vertical-align: top;\n",
       "    }\n",
       "\n",
       "    .dataframe thead th {\n",
       "        text-align: right;\n",
       "    }\n",
       "</style>\n",
       "<table border=\"1\" class=\"dataframe\">\n",
       "  <thead>\n",
       "    <tr style=\"text-align: right;\">\n",
       "      <th></th>\n",
       "      <th>person id</th>\n",
       "      <th>age</th>\n",
       "      <th>education</th>\n",
       "      <th>ethnicity</th>\n",
       "    </tr>\n",
       "  </thead>\n",
       "  <tbody>\n",
       "    <tr>\n",
       "      <th>count</th>\n",
       "      <td>400000.000000</td>\n",
       "      <td>400000</td>\n",
       "      <td>400000</td>\n",
       "      <td>400000</td>\n",
       "    </tr>\n",
       "    <tr>\n",
       "      <th>unique</th>\n",
       "      <td>NaN</td>\n",
       "      <td>8</td>\n",
       "      <td>5</td>\n",
       "      <td>5</td>\n",
       "    </tr>\n",
       "    <tr>\n",
       "      <th>top</th>\n",
       "      <td>NaN</td>\n",
       "      <td>55_64</td>\n",
       "      <td>HS Diploma</td>\n",
       "      <td>white</td>\n",
       "    </tr>\n",
       "    <tr>\n",
       "      <th>freq</th>\n",
       "      <td>NaN</td>\n",
       "      <td>104788</td>\n",
       "      <td>133303</td>\n",
       "      <td>307668</td>\n",
       "    </tr>\n",
       "    <tr>\n",
       "      <th>mean</th>\n",
       "      <td>199999.500000</td>\n",
       "      <td>NaN</td>\n",
       "      <td>NaN</td>\n",
       "      <td>NaN</td>\n",
       "    </tr>\n",
       "    <tr>\n",
       "      <th>std</th>\n",
       "      <td>115470.198175</td>\n",
       "      <td>NaN</td>\n",
       "      <td>NaN</td>\n",
       "      <td>NaN</td>\n",
       "    </tr>\n",
       "    <tr>\n",
       "      <th>min</th>\n",
       "      <td>0.000000</td>\n",
       "      <td>NaN</td>\n",
       "      <td>NaN</td>\n",
       "      <td>NaN</td>\n",
       "    </tr>\n",
       "    <tr>\n",
       "      <th>25%</th>\n",
       "      <td>99999.750000</td>\n",
       "      <td>NaN</td>\n",
       "      <td>NaN</td>\n",
       "      <td>NaN</td>\n",
       "    </tr>\n",
       "    <tr>\n",
       "      <th>50%</th>\n",
       "      <td>199999.500000</td>\n",
       "      <td>NaN</td>\n",
       "      <td>NaN</td>\n",
       "      <td>NaN</td>\n",
       "    </tr>\n",
       "    <tr>\n",
       "      <th>75%</th>\n",
       "      <td>299999.250000</td>\n",
       "      <td>NaN</td>\n",
       "      <td>NaN</td>\n",
       "      <td>NaN</td>\n",
       "    </tr>\n",
       "    <tr>\n",
       "      <th>max</th>\n",
       "      <td>399999.000000</td>\n",
       "      <td>NaN</td>\n",
       "      <td>NaN</td>\n",
       "      <td>NaN</td>\n",
       "    </tr>\n",
       "  </tbody>\n",
       "</table>\n",
       "</div>"
      ],
      "text/plain": [
       "            person id     age   education ethnicity\n",
       "count   400000.000000  400000      400000    400000\n",
       "unique            NaN       8           5         5\n",
       "top               NaN   55_64  HS Diploma     white\n",
       "freq              NaN  104788      133303    307668\n",
       "mean    199999.500000     NaN         NaN       NaN\n",
       "std     115470.198175     NaN         NaN       NaN\n",
       "min          0.000000     NaN         NaN       NaN\n",
       "25%      99999.750000     NaN         NaN       NaN\n",
       "50%     199999.500000     NaN         NaN       NaN\n",
       "75%     299999.250000     NaN         NaN       NaN\n",
       "max     399999.000000     NaN         NaN       NaN"
      ]
     },
     "execution_count": 10,
     "metadata": {},
     "output_type": "execute_result"
    }
   ],
   "source": [
    "df_attr.describe(include='all')"
   ]
  },
  {
   "cell_type": "markdown",
   "metadata": {},
   "source": [
    "**Now lets plot the histogram for each of the categories.**"
   ]
  },
  {
   "cell_type": "code",
   "execution_count": 11,
   "metadata": {},
   "outputs": [
    {
     "name": "stderr",
     "output_type": "stream",
     "text": [
      "C:\\Users\\MK\\anaconda3\\lib\\site-packages\\seaborn\\_decorators.py:36: FutureWarning: Pass the following variable as a keyword arg: x. From version 0.12, the only valid positional argument will be `data`, and passing other arguments without an explicit keyword will result in an error or misinterpretation.\n",
      "  warnings.warn(\n"
     ]
    },
    {
     "data": {
      "image/png": "[encoded data removed]",
      "text/plain": [
       "<Figure size 648x432 with 1 Axes>"
      ]
     },
     "metadata": {},
     "output_type": "display_data"
    }
   ],
   "source": [
    "# Graphical representation by age group.\n",
    "total_len = len(df_attr['age'])\n",
    "sns.set(rc={'figure.figsize':(9,6)})\n",
    "sns.countplot(df_attr['age']).set_title('Data Distribution', fontsize=14)\n",
    "ax = plt.gca()\n",
    "for p in ax.patches:\n",
    "    height = p.get_height()\n",
    "    ax.text(p.get_x() + p.get_width()/2.,\n",
    "            height + 2,\n",
    "            '{:.2f}%'.format(100*(height/total_len)),\n",
    "            fontsize=12, ha='center', va='bottom')\n",
    "sns.set(font_scale=2)\n",
    "ax.set_xlabel(\"Age class\", fontsize=14)\n",
    "ax.set_ylabel(\"Numbers of records\", fontsize=14)\n",
    "plt.show()"
   ]
  },
  {
   "cell_type": "code",
   "execution_count": 368,
   "metadata": {},
   "outputs": [
    {
     "name": "stderr",
     "output_type": "stream",
     "text": [
      "C:\\Users\\MK\\anaconda3\\lib\\site-packages\\seaborn\\_decorators.py:36: FutureWarning: Pass the following variable as a keyword arg: x. From version 0.12, the only valid positional argument will be `data`, and passing other arguments without an explicit keyword will result in an error or misinterpretation.\n",
      "  warnings.warn(\n"
     ]
    },
    {
     "data": {
      "image/png": "[encoded data removed]",
      "text/plain": [
       "<Figure size 648x432 with 1 Axes>"
      ]
     },
     "metadata": {},
     "output_type": "display_data"
    }
   ],
   "source": [
    "# Graphical representation by age group.\n",
    "total_len = len(df_attr['education'])\n",
    "sns.set(rc={'figure.figsize':(9,6)})\n",
    "sns.countplot(df_attr['education']).set_title('Data Distribution', fontsize=14)\n",
    "ax = plt.gca()\n",
    "for p in ax.patches:\n",
    "    height = p.get_height()\n",
    "    ax.text(p.get_x() + p.get_width()/2.,\n",
    "            height + 2,\n",
    "            '{:.2f}%'.format(100*(height/total_len)),\n",
    "            fontsize=12, ha='center', va='bottom')\n",
    "sns.set(font_scale=2)\n",
    "ax.set_xlabel(\"Education level\", fontsize=14)\n",
    "ax.set_ylabel(\"Numbers of records\", fontsize=14)\n",
    "plt.show()"
   ]
  },
  {
   "cell_type": "code",
   "execution_count": 12,
   "metadata": {
    "scrolled": true
   },
   "outputs": [
    {
     "name": "stderr",
     "output_type": "stream",
     "text": [
      "C:\\Users\\MK\\anaconda3\\lib\\site-packages\\seaborn\\_decorators.py:36: FutureWarning: Pass the following variable as a keyword arg: x. From version 0.12, the only valid positional argument will be `data`, and passing other arguments without an explicit keyword will result in an error or misinterpretation.\n",
      "  warnings.warn(\n"
     ]
    },
    {
     "data": {
      "image/png": "[encoded data removed]",
      "text/plain": [
       "<Figure size 432x432 with 1 Axes>"
      ]
     },
     "metadata": {},
     "output_type": "display_data"
    }
   ],
   "source": [
    "# Graphical representation by ethnicity.\n",
    "total_len = len(df_attr['ethnicity'])\n",
    "sns.set(rc={'figure.figsize':(6,6)})\n",
    "sns.countplot(df_attr['ethnicity']).set_title('Data Distribution', fontsize=14)\n",
    "ax = plt.gca()\n",
    "for p in ax.patches:\n",
    "    height = p.get_height()\n",
    "    ax.text(p.get_x() + p.get_width()/2.,\n",
    "            height + 2,\n",
    "            '{:.2f}%'.format(100*(height/total_len)),\n",
    "            fontsize=12, ha='center', va='bottom')\n",
    "sns.set(font_scale=2)\n",
    "ax.set_xlabel(\"Ethnicity\", fontsize=14)\n",
    "ax.set_ylabel(\"Numbers of records\", fontsize=14)\n",
    "plt.show()"
   ]
  },
  {
   "cell_type": "raw",
   "metadata": {},
   "source": []
  },
  {
   "cell_type": "markdown",
   "metadata": {},
   "source": [
    "**Based on above histograms we can clearly see that the data is highly baised based on ethnicity. Amlost 77% of the population sampled are white. In education categories people with no high school diploma and with graduate degree are undersampled. On the Age group also, the data is baised against the population with age group of 18-24 and 25-34.\n",
    "Now we need to deal with this sampling bias.**"
   ]
  },
  {
   "cell_type": "markdown",
   "metadata": {},
   "source": [
    "**Before that I want to see what percentage of population in the US census data fall in these various categories. So lets find percentage and ratio distribution of these categories in the Census data.**"
   ]
  },
  {
   "cell_type": "code",
   "execution_count": 13,
   "metadata": {
    "scrolled": true
   },
   "outputs": [
    {
     "name": "stdout",
     "output_type": "stream",
     "text": [
      "(22, 4)\n",
      "   demographic category  number of individuals  Percentage   ratio\n",
      "0                 18_24               11839159        3.59  0.0359\n",
      "1                 25_34               16399632        4.97  0.0497\n",
      "2                 35_44               15335704        4.65  0.0465\n",
      "3                 45_54               16430762        4.98  0.0498\n",
      "4                 55_64               15148777        4.59  0.0459\n",
      "5                 65_74                9990412        3.03  0.0303\n",
      "6                 75_84                5221430        1.58  0.0158\n",
      "7                   0_4                7500407        2.27  0.0227\n",
      "8                   5_9                7748669        2.35  0.0235\n",
      "9                 10_14                7815759        2.37  0.0237\n",
      "10                15_17                4758751        1.44  0.0144\n",
      "11               85_120                2293226        0.70  0.0070\n",
      "12    < Than HS Diploma               12274025        3.72  0.0372\n",
      "13      Bachelor Degree               16305721        4.94  0.0494\n",
      "14      Graduate Degree                9343192        2.83  0.0283\n",
      "15           HS Diploma               25799018        7.82  0.0782\n",
      "16         Some College               28937146        8.77  0.0877\n",
      "17                asian                6145151        1.86  0.0186\n",
      "18                black               14626476        4.43  0.0443\n",
      "19             hispanic               21953456        6.65  0.0665\n",
      "20             islander                 190389        0.06  0.0006\n",
      "21                white               73838168       22.38  0.2238\n"
     ]
    }
   ],
   "source": [
    "# Now I want to use the `demo ground truth' df_gt data and analyze the percentage distributions for each categories. \n",
    "df_gt['Percentage'] = 100 * df_gt['number of individuals']  / df_gt['number of individuals'].sum()\n",
    "df_gt['Percentage']=round(df_gt['Percentage'], 2)\n",
    "df_gt['ratio']=df_gt['Percentage']/100\n",
    "print(df_gt.shape)\n",
    "print(df_gt)"
   ]
  },
  {
   "cell_type": "markdown",
   "metadata": {},
   "source": [
    "**Based on this results we can see that among 22 demographic categories, white is highly over sampled. Islander category is undersampled. some age group categories are also bais.**"
   ]
  },
  {
   "cell_type": "markdown",
   "metadata": {},
   "source": [
    "**Now a major question that arise from this observation is what is the ratio of people that are in this multiple categories? Eg. what percentage of white people are in age between 25-34 and have garduate degree? or what percentage of Asian have bachelor degree and are in age range of 45-54? and how do we define the weight for these individuals? This will make this problem interestnig but complicated. I will take a simpler approach rather than spending more time on this.\n",
    "So I am taking a simple steps here. I will design weights for each category separetely for each individuals and then average the weights out to find weights for each individuals.**"
   ]
  },
  {
   "cell_type": "code",
   "execution_count": 14,
   "metadata": {
    "scrolled": false
   },
   "outputs": [
    {
     "data": {
      "text/plain": [
       "55_64     104788\n",
       "45_54      90479\n",
       "65_74      73018\n",
       "35_44      49527\n",
       "75_84      32107\n",
       "25_34      23751\n",
       "18_24      15000\n",
       "85_120     11330\n",
       "Name: age, dtype: int64"
      ]
     },
     "execution_count": 14,
     "metadata": {},
     "output_type": "execute_result"
    }
   ],
   "source": [
    "#lets tart with age categories. There are 8 categories in the age.\n",
    "df_attr.age.value_counts()"
   ]
  },
  {
   "cell_type": "code",
   "execution_count": 15,
   "metadata": {},
   "outputs": [
    {
     "name": "stdout",
     "output_type": "stream",
     "text": [
      "   demographic category  number of individuals  Percentage   ratio\n",
      "0                 18_24               11839159        3.59  0.0359\n",
      "1                 25_34               16399632        4.97  0.0497\n",
      "2                 35_44               15335704        4.65  0.0465\n",
      "3                 45_54               16430762        4.98  0.0498\n",
      "4                 55_64               15148777        4.59  0.0459\n",
      "5                 65_74                9990412        3.03  0.0303\n",
      "6                 75_84                5221430        1.58  0.0158\n",
      "7                   0_4                7500407        2.27  0.0227\n",
      "8                   5_9                7748669        2.35  0.0235\n",
      "9                 10_14                7815759        2.37  0.0237\n",
      "10                15_17                4758751        1.44  0.0144\n",
      "11               85_120                2293226        0.70  0.0070\n",
      "12    < Than HS Diploma               12274025        3.72  0.0372\n",
      "13      Bachelor Degree               16305721        4.94  0.0494\n",
      "14      Graduate Degree                9343192        2.83  0.0283\n",
      "15           HS Diploma               25799018        7.82  0.0782\n",
      "16         Some College               28937146        8.77  0.0877\n",
      "17                asian                6145151        1.86  0.0186\n",
      "18                black               14626476        4.43  0.0443\n",
      "19             hispanic               21953456        6.65  0.0665\n",
      "20             islander                 190389        0.06  0.0006\n",
      "21                white               73838168       22.38  0.2238\n"
     ]
    }
   ],
   "source": [
    "print(df_gt)"
   ]
  },
  {
   "cell_type": "markdown",
   "metadata": {},
   "source": [
    "**To average the bais of the 8 different age categories, the polulation should be divided into 1/8 which is 0.125. \n",
    "So I am going to assign the weight of 0.125 for each of the categories.\n",
    "But this does not make sense of the real polulation data and its ratio given with census data in ground truth files. To overcome this problem, the raio for each categories from the Census ground truth data will be multiplied with the types age categories and its factor of 0.125**"
   ]
  },
  {
   "cell_type": "code",
   "execution_count": 16,
   "metadata": {},
   "outputs": [
    {
     "data": {
      "text/html": [
       "<div>\n",
       "<style scoped>\n",
       "    .dataframe tbody tr th:only-of-type {\n",
       "        vertical-align: middle;\n",
       "    }\n",
       "\n",
       "    .dataframe tbody tr th {\n",
       "        vertical-align: top;\n",
       "    }\n",
       "\n",
       "    .dataframe thead th {\n",
       "        text-align: right;\n",
       "    }\n",
       "</style>\n",
       "<table border=\"1\" class=\"dataframe\">\n",
       "  <thead>\n",
       "    <tr style=\"text-align: right;\">\n",
       "      <th></th>\n",
       "      <th>person id</th>\n",
       "      <th>age</th>\n",
       "      <th>education</th>\n",
       "      <th>ethnicity</th>\n",
       "      <th>age_wt</th>\n",
       "    </tr>\n",
       "  </thead>\n",
       "  <tbody>\n",
       "    <tr>\n",
       "      <th>0</th>\n",
       "      <td>0</td>\n",
       "      <td>75_84</td>\n",
       "      <td>Some College</td>\n",
       "      <td>white</td>\n",
       "      <td>0.001975</td>\n",
       "    </tr>\n",
       "    <tr>\n",
       "      <th>1</th>\n",
       "      <td>1</td>\n",
       "      <td>85_120</td>\n",
       "      <td>HS Diploma</td>\n",
       "      <td>white</td>\n",
       "      <td>0.000875</td>\n",
       "    </tr>\n",
       "    <tr>\n",
       "      <th>2</th>\n",
       "      <td>2</td>\n",
       "      <td>25_34</td>\n",
       "      <td>Some College</td>\n",
       "      <td>white</td>\n",
       "      <td>0.006212</td>\n",
       "    </tr>\n",
       "    <tr>\n",
       "      <th>3</th>\n",
       "      <td>3</td>\n",
       "      <td>55_64</td>\n",
       "      <td>HS Diploma</td>\n",
       "      <td>black</td>\n",
       "      <td>0.005737</td>\n",
       "    </tr>\n",
       "    <tr>\n",
       "      <th>4</th>\n",
       "      <td>4</td>\n",
       "      <td>45_54</td>\n",
       "      <td>Bachelor Degree</td>\n",
       "      <td>white</td>\n",
       "      <td>0.006225</td>\n",
       "    </tr>\n",
       "    <tr>\n",
       "      <th>5</th>\n",
       "      <td>5</td>\n",
       "      <td>25_34</td>\n",
       "      <td>HS Diploma</td>\n",
       "      <td>white</td>\n",
       "      <td>0.006212</td>\n",
       "    </tr>\n",
       "    <tr>\n",
       "      <th>6</th>\n",
       "      <td>6</td>\n",
       "      <td>55_64</td>\n",
       "      <td>Some College</td>\n",
       "      <td>white</td>\n",
       "      <td>0.005737</td>\n",
       "    </tr>\n",
       "    <tr>\n",
       "      <th>7</th>\n",
       "      <td>7</td>\n",
       "      <td>45_54</td>\n",
       "      <td>HS Diploma</td>\n",
       "      <td>white</td>\n",
       "      <td>0.006225</td>\n",
       "    </tr>\n",
       "    <tr>\n",
       "      <th>8</th>\n",
       "      <td>8</td>\n",
       "      <td>18_24</td>\n",
       "      <td>Some College</td>\n",
       "      <td>white</td>\n",
       "      <td>0.004488</td>\n",
       "    </tr>\n",
       "    <tr>\n",
       "      <th>9</th>\n",
       "      <td>9</td>\n",
       "      <td>75_84</td>\n",
       "      <td>Some College</td>\n",
       "      <td>white</td>\n",
       "      <td>0.001975</td>\n",
       "    </tr>\n",
       "  </tbody>\n",
       "</table>\n",
       "</div>"
      ],
      "text/plain": [
       "   person id     age        education ethnicity    age_wt\n",
       "0          0   75_84     Some College     white  0.001975\n",
       "1          1  85_120       HS Diploma     white  0.000875\n",
       "2          2   25_34     Some College     white  0.006212\n",
       "3          3   55_64       HS Diploma     black  0.005737\n",
       "4          4   45_54  Bachelor Degree     white  0.006225\n",
       "5          5   25_34       HS Diploma     white  0.006212\n",
       "6          6   55_64     Some College     white  0.005737\n",
       "7          7   45_54       HS Diploma     white  0.006225\n",
       "8          8   18_24     Some College     white  0.004488\n",
       "9          9   75_84     Some College     white  0.001975"
      ]
     },
     "execution_count": 16,
     "metadata": {},
     "output_type": "execute_result"
    }
   ],
   "source": [
    "df_attr.loc[df_attr['age'] == '55_64', 'age_wt'] = df_gt.iloc[4]['ratio']*0.125\n",
    "df_attr.loc[df_attr['age'] == '45_54', 'age_wt'] = df_gt.iloc[3]['ratio']*0.125\n",
    "df_attr.loc[df_attr['age'] == '65_74', 'age_wt'] = df_gt.iloc[5]['ratio']*0.125\n",
    "df_attr.loc[df_attr['age'] == '35_44', 'age_wt'] = df_gt.iloc[2]['ratio']*0.125\n",
    "df_attr.loc[df_attr['age'] == '75_84', 'age_wt'] = df_gt.iloc[6]['ratio']*0.125\n",
    "df_attr.loc[df_attr['age'] == '25_34', 'age_wt'] = df_gt.iloc[1]['ratio']*0.125\n",
    "df_attr.loc[df_attr['age'] == '18_24', 'age_wt'] = df_gt.iloc[0]['ratio']*0.125\n",
    "df_attr.loc[df_attr['age'] == '85_120', 'age_wt'] = df_gt.iloc[11]['ratio']*0.125\n",
    "df_attr.head(10)"
   ]
  },
  {
   "cell_type": "markdown",
   "metadata": {},
   "source": [
    "**Next categories I am going to look at is Education. there are 5 education categories. If we want to sample them equally, we want to make them 1/5 which is 0.2.**\n",
    "\n",
    "**But this does not make sense of the real polulation data and its ratio given with census data in ground truth files. To overcome this problem, the raio for each categories from the Census ground truth data will be multiplied with the types age categories and its factor of 0.2**"
   ]
  },
  {
   "cell_type": "code",
   "execution_count": 17,
   "metadata": {
    "scrolled": true
   },
   "outputs": [
    {
     "data": {
      "text/plain": [
       "HS Diploma           133303\n",
       "Some College         105725\n",
       "Bachelor Degree       84114\n",
       "Graduate Degree       48289\n",
       "< Than HS Diploma     28569\n",
       "Name: education, dtype: int64"
      ]
     },
     "execution_count": 17,
     "metadata": {},
     "output_type": "execute_result"
    }
   ],
   "source": [
    "#lets look and work with education categories.\n",
    "df_attr.education.value_counts()"
   ]
  },
  {
   "cell_type": "code",
   "execution_count": 18,
   "metadata": {},
   "outputs": [
    {
     "data": {
      "text/html": [
       "<div>\n",
       "<style scoped>\n",
       "    .dataframe tbody tr th:only-of-type {\n",
       "        vertical-align: middle;\n",
       "    }\n",
       "\n",
       "    .dataframe tbody tr th {\n",
       "        vertical-align: top;\n",
       "    }\n",
       "\n",
       "    .dataframe thead th {\n",
       "        text-align: right;\n",
       "    }\n",
       "</style>\n",
       "<table border=\"1\" class=\"dataframe\">\n",
       "  <thead>\n",
       "    <tr style=\"text-align: right;\">\n",
       "      <th></th>\n",
       "      <th>person id</th>\n",
       "      <th>age</th>\n",
       "      <th>education</th>\n",
       "      <th>ethnicity</th>\n",
       "      <th>age_wt</th>\n",
       "      <th>education_wt</th>\n",
       "    </tr>\n",
       "  </thead>\n",
       "  <tbody>\n",
       "    <tr>\n",
       "      <th>0</th>\n",
       "      <td>0</td>\n",
       "      <td>75_84</td>\n",
       "      <td>Some College</td>\n",
       "      <td>white</td>\n",
       "      <td>0.001975</td>\n",
       "      <td>0.01754</td>\n",
       "    </tr>\n",
       "    <tr>\n",
       "      <th>1</th>\n",
       "      <td>1</td>\n",
       "      <td>85_120</td>\n",
       "      <td>HS Diploma</td>\n",
       "      <td>white</td>\n",
       "      <td>0.000875</td>\n",
       "      <td>0.01564</td>\n",
       "    </tr>\n",
       "    <tr>\n",
       "      <th>2</th>\n",
       "      <td>2</td>\n",
       "      <td>25_34</td>\n",
       "      <td>Some College</td>\n",
       "      <td>white</td>\n",
       "      <td>0.006212</td>\n",
       "      <td>0.01754</td>\n",
       "    </tr>\n",
       "    <tr>\n",
       "      <th>3</th>\n",
       "      <td>3</td>\n",
       "      <td>55_64</td>\n",
       "      <td>HS Diploma</td>\n",
       "      <td>black</td>\n",
       "      <td>0.005737</td>\n",
       "      <td>0.01564</td>\n",
       "    </tr>\n",
       "    <tr>\n",
       "      <th>4</th>\n",
       "      <td>4</td>\n",
       "      <td>45_54</td>\n",
       "      <td>Bachelor Degree</td>\n",
       "      <td>white</td>\n",
       "      <td>0.006225</td>\n",
       "      <td>0.00988</td>\n",
       "    </tr>\n",
       "    <tr>\n",
       "      <th>5</th>\n",
       "      <td>5</td>\n",
       "      <td>25_34</td>\n",
       "      <td>HS Diploma</td>\n",
       "      <td>white</td>\n",
       "      <td>0.006212</td>\n",
       "      <td>0.01564</td>\n",
       "    </tr>\n",
       "    <tr>\n",
       "      <th>6</th>\n",
       "      <td>6</td>\n",
       "      <td>55_64</td>\n",
       "      <td>Some College</td>\n",
       "      <td>white</td>\n",
       "      <td>0.005737</td>\n",
       "      <td>0.01754</td>\n",
       "    </tr>\n",
       "    <tr>\n",
       "      <th>7</th>\n",
       "      <td>7</td>\n",
       "      <td>45_54</td>\n",
       "      <td>HS Diploma</td>\n",
       "      <td>white</td>\n",
       "      <td>0.006225</td>\n",
       "      <td>0.01564</td>\n",
       "    </tr>\n",
       "    <tr>\n",
       "      <th>8</th>\n",
       "      <td>8</td>\n",
       "      <td>18_24</td>\n",
       "      <td>Some College</td>\n",
       "      <td>white</td>\n",
       "      <td>0.004488</td>\n",
       "      <td>0.01754</td>\n",
       "    </tr>\n",
       "    <tr>\n",
       "      <th>9</th>\n",
       "      <td>9</td>\n",
       "      <td>75_84</td>\n",
       "      <td>Some College</td>\n",
       "      <td>white</td>\n",
       "      <td>0.001975</td>\n",
       "      <td>0.01754</td>\n",
       "    </tr>\n",
       "  </tbody>\n",
       "</table>\n",
       "</div>"
      ],
      "text/plain": [
       "   person id     age        education ethnicity    age_wt  education_wt\n",
       "0          0   75_84     Some College     white  0.001975       0.01754\n",
       "1          1  85_120       HS Diploma     white  0.000875       0.01564\n",
       "2          2   25_34     Some College     white  0.006212       0.01754\n",
       "3          3   55_64       HS Diploma     black  0.005737       0.01564\n",
       "4          4   45_54  Bachelor Degree     white  0.006225       0.00988\n",
       "5          5   25_34       HS Diploma     white  0.006212       0.01564\n",
       "6          6   55_64     Some College     white  0.005737       0.01754\n",
       "7          7   45_54       HS Diploma     white  0.006225       0.01564\n",
       "8          8   18_24     Some College     white  0.004488       0.01754\n",
       "9          9   75_84     Some College     white  0.001975       0.01754"
      ]
     },
     "execution_count": 18,
     "metadata": {},
     "output_type": "execute_result"
    }
   ],
   "source": [
    "df_attr.loc[df_attr['education'] == 'HS Diploma', 'education_wt'] = df_gt.iloc[15]['ratio']*0.2\n",
    "df_attr.loc[df_attr['education'] == 'Some College', 'education_wt'] =df_gt.iloc[16]['ratio']* 0.2\n",
    "df_attr.loc[df_attr['education'] == 'Bachelor Degree', 'education_wt'] =df_gt.iloc[13]['ratio']* 0.2\n",
    "df_attr.loc[df_attr['education'] == 'Graduate Degree', 'education_wt'] = df_gt.iloc[14]['ratio']*0.2\n",
    "df_attr.loc[df_attr['education'] == '< Than HS Diploma', 'education_wt'] = df_gt.iloc[12]['ratio']*0.2\n",
    "df_attr.head(10)"
   ]
  },
  {
   "cell_type": "code",
   "execution_count": 19,
   "metadata": {},
   "outputs": [
    {
     "data": {
      "text/plain": [
       "0.01564    133303\n",
       "0.01754    105725\n",
       "0.00988     84114\n",
       "0.00566     48289\n",
       "0.00744     28569\n",
       "Name: education_wt, dtype: int64"
      ]
     },
     "execution_count": 19,
     "metadata": {},
     "output_type": "execute_result"
    }
   ],
   "source": [
    "df_attr.education_wt.value_counts()"
   ]
  },
  {
   "cell_type": "markdown",
   "metadata": {},
   "source": [
    "**The last category to correct the bias based on ethnicity. There are 5 classes of ethnicity and white category dominates largely. Here I will use the simialr method of weighting as done for above categories.**\n",
    "\n",
    "**But this does not make sense of the real polulation data and its ratio given with census data in ground truth files. To overcome this problem, the raio for each categories from the Census ground truth data will be multiplied with the types age categories and its factor of 0.2**"
   ]
  },
  {
   "cell_type": "code",
   "execution_count": 20,
   "metadata": {},
   "outputs": [
    {
     "data": {
      "text/plain": [
       "white       307668\n",
       "hispanic     42991\n",
       "black        36940\n",
       "asian        12213\n",
       "islander       188\n",
       "Name: ethnicity, dtype: int64"
      ]
     },
     "execution_count": 20,
     "metadata": {},
     "output_type": "execute_result"
    }
   ],
   "source": [
    "df_attr.ethnicity.value_counts()"
   ]
  },
  {
   "cell_type": "code",
   "execution_count": 21,
   "metadata": {
    "scrolled": true
   },
   "outputs": [
    {
     "data": {
      "text/html": [
       "<div>\n",
       "<style scoped>\n",
       "    .dataframe tbody tr th:only-of-type {\n",
       "        vertical-align: middle;\n",
       "    }\n",
       "\n",
       "    .dataframe tbody tr th {\n",
       "        vertical-align: top;\n",
       "    }\n",
       "\n",
       "    .dataframe thead th {\n",
       "        text-align: right;\n",
       "    }\n",
       "</style>\n",
       "<table border=\"1\" class=\"dataframe\">\n",
       "  <thead>\n",
       "    <tr style=\"text-align: right;\">\n",
       "      <th></th>\n",
       "      <th>person id</th>\n",
       "      <th>age</th>\n",
       "      <th>education</th>\n",
       "      <th>ethnicity</th>\n",
       "      <th>age_wt</th>\n",
       "      <th>education_wt</th>\n",
       "      <th>ethnicity_wt</th>\n",
       "    </tr>\n",
       "  </thead>\n",
       "  <tbody>\n",
       "    <tr>\n",
       "      <th>0</th>\n",
       "      <td>0</td>\n",
       "      <td>75_84</td>\n",
       "      <td>Some College</td>\n",
       "      <td>white</td>\n",
       "      <td>0.001975</td>\n",
       "      <td>0.01754</td>\n",
       "      <td>0.04476</td>\n",
       "    </tr>\n",
       "    <tr>\n",
       "      <th>1</th>\n",
       "      <td>1</td>\n",
       "      <td>85_120</td>\n",
       "      <td>HS Diploma</td>\n",
       "      <td>white</td>\n",
       "      <td>0.000875</td>\n",
       "      <td>0.01564</td>\n",
       "      <td>0.04476</td>\n",
       "    </tr>\n",
       "    <tr>\n",
       "      <th>2</th>\n",
       "      <td>2</td>\n",
       "      <td>25_34</td>\n",
       "      <td>Some College</td>\n",
       "      <td>white</td>\n",
       "      <td>0.006212</td>\n",
       "      <td>0.01754</td>\n",
       "      <td>0.04476</td>\n",
       "    </tr>\n",
       "    <tr>\n",
       "      <th>3</th>\n",
       "      <td>3</td>\n",
       "      <td>55_64</td>\n",
       "      <td>HS Diploma</td>\n",
       "      <td>black</td>\n",
       "      <td>0.005737</td>\n",
       "      <td>0.01564</td>\n",
       "      <td>0.00886</td>\n",
       "    </tr>\n",
       "    <tr>\n",
       "      <th>4</th>\n",
       "      <td>4</td>\n",
       "      <td>45_54</td>\n",
       "      <td>Bachelor Degree</td>\n",
       "      <td>white</td>\n",
       "      <td>0.006225</td>\n",
       "      <td>0.00988</td>\n",
       "      <td>0.04476</td>\n",
       "    </tr>\n",
       "    <tr>\n",
       "      <th>5</th>\n",
       "      <td>5</td>\n",
       "      <td>25_34</td>\n",
       "      <td>HS Diploma</td>\n",
       "      <td>white</td>\n",
       "      <td>0.006212</td>\n",
       "      <td>0.01564</td>\n",
       "      <td>0.04476</td>\n",
       "    </tr>\n",
       "    <tr>\n",
       "      <th>6</th>\n",
       "      <td>6</td>\n",
       "      <td>55_64</td>\n",
       "      <td>Some College</td>\n",
       "      <td>white</td>\n",
       "      <td>0.005737</td>\n",
       "      <td>0.01754</td>\n",
       "      <td>0.04476</td>\n",
       "    </tr>\n",
       "    <tr>\n",
       "      <th>7</th>\n",
       "      <td>7</td>\n",
       "      <td>45_54</td>\n",
       "      <td>HS Diploma</td>\n",
       "      <td>white</td>\n",
       "      <td>0.006225</td>\n",
       "      <td>0.01564</td>\n",
       "      <td>0.04476</td>\n",
       "    </tr>\n",
       "    <tr>\n",
       "      <th>8</th>\n",
       "      <td>8</td>\n",
       "      <td>18_24</td>\n",
       "      <td>Some College</td>\n",
       "      <td>white</td>\n",
       "      <td>0.004488</td>\n",
       "      <td>0.01754</td>\n",
       "      <td>0.04476</td>\n",
       "    </tr>\n",
       "    <tr>\n",
       "      <th>9</th>\n",
       "      <td>9</td>\n",
       "      <td>75_84</td>\n",
       "      <td>Some College</td>\n",
       "      <td>white</td>\n",
       "      <td>0.001975</td>\n",
       "      <td>0.01754</td>\n",
       "      <td>0.04476</td>\n",
       "    </tr>\n",
       "  </tbody>\n",
       "</table>\n",
       "</div>"
      ],
      "text/plain": [
       "   person id     age        education ethnicity    age_wt  education_wt  \\\n",
       "0          0   75_84     Some College     white  0.001975       0.01754   \n",
       "1          1  85_120       HS Diploma     white  0.000875       0.01564   \n",
       "2          2   25_34     Some College     white  0.006212       0.01754   \n",
       "3          3   55_64       HS Diploma     black  0.005737       0.01564   \n",
       "4          4   45_54  Bachelor Degree     white  0.006225       0.00988   \n",
       "5          5   25_34       HS Diploma     white  0.006212       0.01564   \n",
       "6          6   55_64     Some College     white  0.005737       0.01754   \n",
       "7          7   45_54       HS Diploma     white  0.006225       0.01564   \n",
       "8          8   18_24     Some College     white  0.004488       0.01754   \n",
       "9          9   75_84     Some College     white  0.001975       0.01754   \n",
       "\n",
       "   ethnicity_wt  \n",
       "0       0.04476  \n",
       "1       0.04476  \n",
       "2       0.04476  \n",
       "3       0.00886  \n",
       "4       0.04476  \n",
       "5       0.04476  \n",
       "6       0.04476  \n",
       "7       0.04476  \n",
       "8       0.04476  \n",
       "9       0.04476  "
      ]
     },
     "execution_count": 21,
     "metadata": {},
     "output_type": "execute_result"
    }
   ],
   "source": [
    "df_attr.loc[df_attr['ethnicity'] == 'white', 'ethnicity_wt'] = df_gt.iloc[21]['ratio']*0.2\n",
    "df_attr.loc[df_attr['ethnicity'] == 'hispanic', 'ethnicity_wt'] =df_gt.iloc[19]['ratio']* 0.2\n",
    "df_attr.loc[df_attr['ethnicity'] == 'black', 'ethnicity_wt'] = df_gt.iloc[18]['ratio']*0.2\n",
    "df_attr.loc[df_attr['ethnicity'] == 'asian', 'ethnicity_wt'] = df_gt.iloc[17]['ratio']*0.2\n",
    "df_attr.loc[df_attr['ethnicity'] == 'islander', 'ethnicity_wt'] = df_gt.iloc[20]['ratio']*0.2\n",
    "df_attr.head(10)"
   ]
  },
  {
   "cell_type": "markdown",
   "metadata": {},
   "source": [
    "**Last thing we want to do is average out the three different weights applied to the three categories and find the over all average weights for the personal ids and export the csv file.**"
   ]
  },
  {
   "cell_type": "code",
   "execution_count": 22,
   "metadata": {},
   "outputs": [
    {
     "data": {
      "text/html": [
       "<div>\n",
       "<style scoped>\n",
       "    .dataframe tbody tr th:only-of-type {\n",
       "        vertical-align: middle;\n",
       "    }\n",
       "\n",
       "    .dataframe tbody tr th {\n",
       "        vertical-align: top;\n",
       "    }\n",
       "\n",
       "    .dataframe thead th {\n",
       "        text-align: right;\n",
       "    }\n",
       "</style>\n",
       "<table border=\"1\" class=\"dataframe\">\n",
       "  <thead>\n",
       "    <tr style=\"text-align: right;\">\n",
       "      <th></th>\n",
       "      <th>person id</th>\n",
       "      <th>age</th>\n",
       "      <th>education</th>\n",
       "      <th>ethnicity</th>\n",
       "      <th>age_wt</th>\n",
       "      <th>education_wt</th>\n",
       "      <th>ethnicity_wt</th>\n",
       "      <th>average_weight</th>\n",
       "    </tr>\n",
       "  </thead>\n",
       "  <tbody>\n",
       "    <tr>\n",
       "      <th>0</th>\n",
       "      <td>0</td>\n",
       "      <td>75_84</td>\n",
       "      <td>Some College</td>\n",
       "      <td>white</td>\n",
       "      <td>0.001975</td>\n",
       "      <td>0.01754</td>\n",
       "      <td>0.04476</td>\n",
       "      <td>0.0214</td>\n",
       "    </tr>\n",
       "    <tr>\n",
       "      <th>1</th>\n",
       "      <td>1</td>\n",
       "      <td>85_120</td>\n",
       "      <td>HS Diploma</td>\n",
       "      <td>white</td>\n",
       "      <td>0.000875</td>\n",
       "      <td>0.01564</td>\n",
       "      <td>0.04476</td>\n",
       "      <td>0.0204</td>\n",
       "    </tr>\n",
       "    <tr>\n",
       "      <th>2</th>\n",
       "      <td>2</td>\n",
       "      <td>25_34</td>\n",
       "      <td>Some College</td>\n",
       "      <td>white</td>\n",
       "      <td>0.006212</td>\n",
       "      <td>0.01754</td>\n",
       "      <td>0.04476</td>\n",
       "      <td>0.0228</td>\n",
       "    </tr>\n",
       "    <tr>\n",
       "      <th>3</th>\n",
       "      <td>3</td>\n",
       "      <td>55_64</td>\n",
       "      <td>HS Diploma</td>\n",
       "      <td>black</td>\n",
       "      <td>0.005737</td>\n",
       "      <td>0.01564</td>\n",
       "      <td>0.00886</td>\n",
       "      <td>0.0101</td>\n",
       "    </tr>\n",
       "    <tr>\n",
       "      <th>4</th>\n",
       "      <td>4</td>\n",
       "      <td>45_54</td>\n",
       "      <td>Bachelor Degree</td>\n",
       "      <td>white</td>\n",
       "      <td>0.006225</td>\n",
       "      <td>0.00988</td>\n",
       "      <td>0.04476</td>\n",
       "      <td>0.0203</td>\n",
       "    </tr>\n",
       "    <tr>\n",
       "      <th>5</th>\n",
       "      <td>5</td>\n",
       "      <td>25_34</td>\n",
       "      <td>HS Diploma</td>\n",
       "      <td>white</td>\n",
       "      <td>0.006212</td>\n",
       "      <td>0.01564</td>\n",
       "      <td>0.04476</td>\n",
       "      <td>0.0222</td>\n",
       "    </tr>\n",
       "    <tr>\n",
       "      <th>6</th>\n",
       "      <td>6</td>\n",
       "      <td>55_64</td>\n",
       "      <td>Some College</td>\n",
       "      <td>white</td>\n",
       "      <td>0.005737</td>\n",
       "      <td>0.01754</td>\n",
       "      <td>0.04476</td>\n",
       "      <td>0.0227</td>\n",
       "    </tr>\n",
       "    <tr>\n",
       "      <th>7</th>\n",
       "      <td>7</td>\n",
       "      <td>45_54</td>\n",
       "      <td>HS Diploma</td>\n",
       "      <td>white</td>\n",
       "      <td>0.006225</td>\n",
       "      <td>0.01564</td>\n",
       "      <td>0.04476</td>\n",
       "      <td>0.0222</td>\n",
       "    </tr>\n",
       "    <tr>\n",
       "      <th>8</th>\n",
       "      <td>8</td>\n",
       "      <td>18_24</td>\n",
       "      <td>Some College</td>\n",
       "      <td>white</td>\n",
       "      <td>0.004488</td>\n",
       "      <td>0.01754</td>\n",
       "      <td>0.04476</td>\n",
       "      <td>0.0223</td>\n",
       "    </tr>\n",
       "    <tr>\n",
       "      <th>9</th>\n",
       "      <td>9</td>\n",
       "      <td>75_84</td>\n",
       "      <td>Some College</td>\n",
       "      <td>white</td>\n",
       "      <td>0.001975</td>\n",
       "      <td>0.01754</td>\n",
       "      <td>0.04476</td>\n",
       "      <td>0.0214</td>\n",
       "    </tr>\n",
       "  </tbody>\n",
       "</table>\n",
       "</div>"
      ],
      "text/plain": [
       "   person id     age        education ethnicity    age_wt  education_wt  \\\n",
       "0          0   75_84     Some College     white  0.001975       0.01754   \n",
       "1          1  85_120       HS Diploma     white  0.000875       0.01564   \n",
       "2          2   25_34     Some College     white  0.006212       0.01754   \n",
       "3          3   55_64       HS Diploma     black  0.005737       0.01564   \n",
       "4          4   45_54  Bachelor Degree     white  0.006225       0.00988   \n",
       "5          5   25_34       HS Diploma     white  0.006212       0.01564   \n",
       "6          6   55_64     Some College     white  0.005737       0.01754   \n",
       "7          7   45_54       HS Diploma     white  0.006225       0.01564   \n",
       "8          8   18_24     Some College     white  0.004488       0.01754   \n",
       "9          9   75_84     Some College     white  0.001975       0.01754   \n",
       "\n",
       "   ethnicity_wt  average_weight  \n",
       "0       0.04476          0.0214  \n",
       "1       0.04476          0.0204  \n",
       "2       0.04476          0.0228  \n",
       "3       0.00886          0.0101  \n",
       "4       0.04476          0.0203  \n",
       "5       0.04476          0.0222  \n",
       "6       0.04476          0.0227  \n",
       "7       0.04476          0.0222  \n",
       "8       0.04476          0.0223  \n",
       "9       0.04476          0.0214  "
      ]
     },
     "execution_count": 22,
     "metadata": {},
     "output_type": "execute_result"
    }
   ],
   "source": [
    "df_attr['average_weight'] = df_attr[['age_wt', 'education_wt', 'ethnicity_wt']].mean(axis=1)\n",
    "df_attr['average_weight']=round(df_attr['average_weight'], 4)\n",
    "df_attr.head(10)"
   ]
  },
  {
   "cell_type": "code",
   "execution_count": 23,
   "metadata": {},
   "outputs": [],
   "source": [
    "#now lets export the data out to csv with selected columns\n",
    "df_attr.to_csv('Murari_Khatiwada_VA_DS_Challange', columns=['person id', 'average_weight'], index=False)"
   ]
  },
  {
   "cell_type": "markdown",
   "metadata": {},
   "source": [
    "**Done!!**"
   ]
  },
  {
   "cell_type": "code",
   "execution_count": null,
   "metadata": {},
   "outputs": [],
   "source": []
  }
 ],
 "metadata": {
  "kernelspec": {
   "display_name": "Python 3",
   "language": "python",
   "name": "python3"
  },
  "language_info": {
   "codemirror_mode": {
    "name": "ipython",
    "version": 3
   },
   "file_extension": ".py",
   "mimetype": "text/x-python",
   "name": "python",
   "nbconvert_exporter": "python",
   "pygments_lexer": "ipython3",
   "version": "3.8.5"
  }
 },
 "nbformat": 4,
 "nbformat_minor": 4
}
